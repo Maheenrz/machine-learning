{
 "cells": [
  {
   "metadata": {},
   "cell_type": "markdown",
   "source": "# Naive Bayes implementation from scratch",
   "id": "e75d40f34b64b599"
  },
  {
   "cell_type": "code",
   "id": "initial_id",
   "metadata": {
    "collapsed": true,
    "ExecuteTime": {
     "end_time": "2025-08-18T11:43:06.230877Z",
     "start_time": "2025-08-18T11:43:06.188610Z"
    }
   },
   "source": [
    "import numpy as np\n",
    "import matplotlib.pyplot as plt"
   ],
   "outputs": [],
   "execution_count": 3
  },
  {
   "metadata": {},
   "cell_type": "markdown",
   "source": "### Exploring Data",
   "id": "dff3533eab8cd5cc"
  },
  {
   "metadata": {
    "ExecuteTime": {
     "end_time": "2025-08-18T11:44:48.743290Z",
     "start_time": "2025-08-18T11:44:45.536109Z"
    }
   },
   "cell_type": "code",
   "source": [
    "%matplotlib inline\n",
    "import numpy as np\n",
    "from matplotlib import pyplot as plt\n",
    "img2=np.array([0,0,0,0,0,0,0,0,0,0,0,0,0,0,0,0,0,0,1,1,1,0,0,0,0,0,0,0,0,0,0,0,0,1,1,0,0,0,0,0,0,0,0,\n",
    "0,0,1,0,0,1,0,0,0,0,0,0,0,0,0,0,0,1,1,0,0,1,0,0,0,0,0,0,0,0,0,0,0,1,1,0,0,1,0,0,0,0,0,0,0,0,0,0,0,1,\n",
    "1,1,0,1,0,0,0,0,0,0,0,0,0,0,1,1,0,1,0,1,0,0,0,0,0,0,0,0,0,0,1,0,0,1,0,1,0,0,0,0,0,0,0,0,0,1,0,0,0,1,\n",
    "0,1,1,1,1,1,1,1,1,1,1,1,0,0,0,1,1,0,0,0,0,0,0,0,0,0,0,0,0,0,0,0,1,0,0,0,0,0,0,0,0,0,0,0,0,0,0,0,1,0,\n",
    "0,0,0,0,0,0,0,0,0,0,0,0,0,0,1,0,0,0,0,0,0,0,0,0,0,0,0,0,0,0,1,0,0,0,0,0,0,0,0,0,0,0,0,0,0,0,1,0,0,0,\n",
    "0,0,0,0,0,0,0,0,0,0,0,0,0],dtype=np.uint8)\n",
    "img4=np.array([0,0,0,0,0,0,0,0,0,0,0,0,0,0,0,0,0,0,0,0,0,0,0,0,0,0,0,0,0,0,0,0,0,0,0,0,0,0,0,1,0,0,0,\n",
    "0,0,0,0,0,1,1,1,1,1,1,1,1,0,0,0,0,0,0,0,0,0,0,0,0,0,0,0,1,0,0,0,0,0,0,0,1,0,0,0,0,0,0,0,1,0,0,0,0,0,\n",
    "1,1,1,0,0,0,0,0,0,1,0,0,0,1,1,1,0,0,0,0,0,0,0,0,0,1,0,0,1,1,0,0,0,0,0,0,0,0,0,0,0,1,1,1,0,0,0,0,0,0,\n",
    "0,0,1,1,1,1,1,1,0,0,0,0,0,0,0,0,0,1,1,0,0,0,1,0,0,0,0,0,0,0,0,0,0,0,0,0,0,0,1,0,0,0,0,0,0,0,0,0,0,0,\n",
    "0,0,0,1,1,0,0,0,0,0,0,0,0,0,0,0,0,0,0,0,1,0,0,0,0,0,0,0,0,0,0,0,0,0,0,0,0,0,0,0,0,0,0,0,0,0,0,0,0,0,\n",
    "0,0,0,0,0,0,0,0,0,0,0,0,0],dtype=np.uint8)\n",
    "img = np.reshape(img4,(16,16),order='F')\n",
    "plt.imshow(img)"
   ],
   "id": "155c1ab6bc3db64f",
   "outputs": [
    {
     "data": {
      "text/plain": [
       "<matplotlib.image.AxesImage at 0x11f6296a0>"
      ]
     },
     "execution_count": 5,
     "metadata": {},
     "output_type": "execute_result"
    },
    {
     "data": {
      "text/plain": [
       "<Figure size 640x480 with 1 Axes>"
      ],
      "image/png": "[encoded data removed]"
     },
     "metadata": {},
     "output_type": "display_data"
    }
   ],
   "execution_count": 5
  },
  {
   "metadata": {},
   "cell_type": "markdown",
   "source": "### Load Training and Testing Data",
   "id": "480ff3fbe551217f"
  },
  {
   "metadata": {
    "ExecuteTime": {
     "end_time": "2025-08-18T13:11:28.207100Z",
     "start_time": "2025-08-18T13:11:27.653252Z"
    }
   },
   "cell_type": "code",
   "source": [
    "# Load training and testing data\n",
    "trainX = np.loadtxt(\"trainX.txt\")        # features (0/1 pixels)\n",
    "trainY = np.loadtxt(\"trainY.txt\", dtype=int)  # labels (2 or 4)\n",
    "testX  = np.loadtxt(\"testX.txt\")         # features\n",
    "testY  = np.loadtxt(\"testY.txt\", dtype=int)   # labels\n",
    "\n",
    "print(\"Training set shape:\", trainX.shape, trainY.shape)\n",
    "print(\"Testing set shape:\", testX.shape, testY.shape)\n"
   ],
   "id": "a8d1bd1d8c768d66",
   "outputs": [
    {
     "name": "stdout",
     "output_type": "stream",
     "text": [
      "Training set shape: (500, 256) (500,)\n",
      "Testing set shape: (100, 256) (100,)\n"
     ]
    }
   ],
   "execution_count": 24
  },
  {
   "metadata": {
    "ExecuteTime": {
     "end_time": "2025-08-18T16:44:46.391872Z",
     "start_time": "2025-08-18T16:44:46.148549Z"
    }
   },
   "cell_type": "code",
   "source": [
    "# compute prior probability --> frequency of each class\n",
    "# P(y)\n",
    "\n",
    "classes, counts = np.unique(trainY, return_counts=True)\n",
    "print(counts)\n",
    "priors = counts / len(trainY)\n",
    "priors_dict = dict(zip(classes, priors))\n",
    "\n",
    "print(\"Classes:\", classes)\n",
    "print(\"Priors:\", priors)\n",
    "print(\"Priors Dict: \", priors_dict)\n"
   ],
   "id": "cb8a853dbecefd54",
   "outputs": [
    {
     "name": "stdout",
     "output_type": "stream",
     "text": [
      "[250 250]\n",
      "Classes: [2 4]\n",
      "Priors: [0.5 0.5]\n",
      "Priors Dict:  {np.int64(2): np.float64(0.5), np.int64(4): np.float64(0.5)}\n"
     ]
    }
   ],
   "execution_count": 45
  },
  {
   "metadata": {
    "ExecuteTime": {
     "end_time": "2025-08-18T16:44:47.460955Z",
     "start_time": "2025-08-18T16:44:47.390459Z"
    }
   },
   "cell_type": "code",
   "source": [
    "# find likelihood\n",
    "num_features = trainX.shape[1]\n",
    "likelihoods = {}\n",
    "\n",
    "for c in classes:\n",
    "    X_c = trainX[trainY == c]\n",
    "\n",
    "    likelihoods[c] = (np.sum(X_c , axis=0)+1)/(X_c.shape[0]+2)\n"
   ],
   "id": "ab5bcb265ade843d",
   "outputs": [],
   "execution_count": 46
  },
  {
   "metadata": {
    "ExecuteTime": {
     "end_time": "2025-08-18T16:49:16.040479Z",
     "start_time": "2025-08-18T16:49:15.700932Z"
    }
   },
   "cell_type": "code",
   "source": [
    "conditional_prob = {}  # dict to hold P(xi|y=c) for each class\n",
    "\n",
    "for c in classes:\n",
    "    X_c = trainX[trainY == c]\n",
    "\n",
    "    feature_counts = np.sum(X_c, axis=0)\n",
    "    p1 = (feature_counts + 1) / (X_c.shape[0] + 2)  # P(xi=1|y=c)\n",
    "    p0 = 1 - p1                                     # P(xi=0|y=c)\n",
    "\n",
    "    conditional_prob[c] = {\n",
    "        1: p1,\n",
    "        0: p0\n",
    "    }\n",
    "\n",
    "\n",
    "for c in classes:\n",
    "    print(f\"Class {c}:\")\n",
    "    print(f\"P(x=1 | y={c}):\", conditional_prob[c][1])\n",
    "    print(f\"P(x=0 | y={c}):\", conditional_prob[c][0])\n"
   ],
   "id": "132f8e9575a5021a",
   "outputs": [
    {
     "name": "stdout",
     "output_type": "stream",
     "text": [
      "Class 2:\n",
      "P(x=1 | y=2): [0.01190476 0.03571429 0.07142857 0.10714286 0.09126984 0.07539683\n",
      " 0.04365079 0.01984127 0.01190476 0.00793651 0.01587302 0.02777778\n",
      " 0.03571429 0.05952381 0.05555556 0.02380952 0.03571429 0.1031746\n",
      " 0.13095238 0.13492063 0.11111111 0.09126984 0.03174603 0.00396825\n",
      " 0.00396825 0.00793651 0.02777778 0.04365079 0.09126984 0.11507937\n",
      " 0.14285714 0.07936508 0.09920635 0.21031746 0.23015873 0.1984127\n",
      " 0.1547619  0.0952381  0.03571429 0.01587302 0.00396825 0.01587302\n",
      " 0.05952381 0.11111111 0.20634921 0.27777778 0.29761905 0.23412698\n",
      " 0.23412698 0.32142857 0.28968254 0.21428571 0.13492063 0.05555556\n",
      " 0.03174603 0.01190476 0.00793651 0.01984127 0.0952381  0.1547619\n",
      " 0.29761905 0.38095238 0.33333333 0.33333333 0.37698413 0.32539683\n",
      " 0.21428571 0.17063492 0.09126984 0.03968254 0.01984127 0.00793651\n",
      " 0.00396825 0.04365079 0.12698413 0.24603175 0.37301587 0.50396825\n",
      " 0.43253968 0.39285714 0.55555556 0.35714286 0.23015873 0.1468254\n",
      " 0.06349206 0.02380952 0.00396825 0.00793651 0.03174603 0.07539683\n",
      " 0.15873016 0.3531746  0.49206349 0.45634921 0.43650794 0.44047619\n",
      " 0.69047619 0.38095238 0.21031746 0.08333333 0.04365079 0.03174603\n",
      " 0.01984127 0.0515873  0.06349206 0.12698413 0.26984127 0.40873016\n",
      " 0.42063492 0.3531746  0.4484127  0.42857143 0.76190476 0.30555556\n",
      " 0.17460317 0.10714286 0.07936508 0.07142857 0.07539683 0.07539683\n",
      " 0.11507937 0.23015873 0.29365079 0.37698413 0.30952381 0.25\n",
      " 0.3968254  0.45238095 0.73412698 0.25       0.18650794 0.15079365\n",
      " 0.15079365 0.11507937 0.12301587 0.16666667 0.25396825 0.32936508\n",
      " 0.37301587 0.34126984 0.25       0.23015873 0.36507937 0.53968254\n",
      " 0.6547619  0.29761905 0.23809524 0.19047619 0.17857143 0.19047619\n",
      " 0.21825397 0.26984127 0.28571429 0.3531746  0.23809524 0.16666667\n",
      " 0.12698413 0.16269841 0.33730159 0.6468254  0.49206349 0.30555556\n",
      " 0.23412698 0.22619048 0.23015873 0.21825397 0.24603175 0.28174603\n",
      " 0.28174603 0.1984127  0.1468254  0.05555556 0.05952381 0.10714286\n",
      " 0.27380952 0.71031746 0.28571429 0.27380952 0.26587302 0.22222222\n",
      " 0.21428571 0.21428571 0.21031746 0.20238095 0.13492063 0.1031746\n",
      " 0.0515873  0.03174603 0.03174603 0.1031746  0.28968254 0.76587302\n",
      " 0.11904762 0.1031746  0.15079365 0.17063492 0.16666667 0.16666667\n",
      " 0.1468254  0.11111111 0.0952381  0.05952381 0.03968254 0.01984127\n",
      " 0.03571429 0.06746032 0.24603175 0.75       0.05952381 0.06349206\n",
      " 0.07539683 0.07936508 0.07936508 0.07539683 0.07539683 0.07142857\n",
      " 0.04365079 0.04365079 0.04761905 0.05952381 0.07539683 0.1031746\n",
      " 0.21825397 0.63888889 0.02380952 0.03174603 0.02777778 0.02380952\n",
      " 0.02777778 0.01984127 0.02380952 0.01984127 0.01587302 0.01190476\n",
      " 0.02777778 0.02380952 0.04365079 0.04365079 0.13095238 0.37301587\n",
      " 0.00396825 0.01190476 0.01190476 0.01587302 0.01587302 0.02380952\n",
      " 0.02380952 0.01984127 0.00793651 0.01190476 0.01984127 0.03571429\n",
      " 0.04365079 0.04365079 0.09126984 0.16269841]\n",
      "P(x=0 | y=2): [0.98809524 0.96428571 0.92857143 0.89285714 0.90873016 0.92460317\n",
      " 0.95634921 0.98015873 0.98809524 0.99206349 0.98412698 0.97222222\n",
      " 0.96428571 0.94047619 0.94444444 0.97619048 0.96428571 0.8968254\n",
      " 0.86904762 0.86507937 0.88888889 0.90873016 0.96825397 0.99603175\n",
      " 0.99603175 0.99206349 0.97222222 0.95634921 0.90873016 0.88492063\n",
      " 0.85714286 0.92063492 0.90079365 0.78968254 0.76984127 0.8015873\n",
      " 0.8452381  0.9047619  0.96428571 0.98412698 0.99603175 0.98412698\n",
      " 0.94047619 0.88888889 0.79365079 0.72222222 0.70238095 0.76587302\n",
      " 0.76587302 0.67857143 0.71031746 0.78571429 0.86507937 0.94444444\n",
      " 0.96825397 0.98809524 0.99206349 0.98015873 0.9047619  0.8452381\n",
      " 0.70238095 0.61904762 0.66666667 0.66666667 0.62301587 0.67460317\n",
      " 0.78571429 0.82936508 0.90873016 0.96031746 0.98015873 0.99206349\n",
      " 0.99603175 0.95634921 0.87301587 0.75396825 0.62698413 0.49603175\n",
      " 0.56746032 0.60714286 0.44444444 0.64285714 0.76984127 0.8531746\n",
      " 0.93650794 0.97619048 0.99603175 0.99206349 0.96825397 0.92460317\n",
      " 0.84126984 0.6468254  0.50793651 0.54365079 0.56349206 0.55952381\n",
      " 0.30952381 0.61904762 0.78968254 0.91666667 0.95634921 0.96825397\n",
      " 0.98015873 0.9484127  0.93650794 0.87301587 0.73015873 0.59126984\n",
      " 0.57936508 0.6468254  0.5515873  0.57142857 0.23809524 0.69444444\n",
      " 0.82539683 0.89285714 0.92063492 0.92857143 0.92460317 0.92460317\n",
      " 0.88492063 0.76984127 0.70634921 0.62301587 0.69047619 0.75\n",
      " 0.6031746  0.54761905 0.26587302 0.75       0.81349206 0.84920635\n",
      " 0.84920635 0.88492063 0.87698413 0.83333333 0.74603175 0.67063492\n",
      " 0.62698413 0.65873016 0.75       0.76984127 0.63492063 0.46031746\n",
      " 0.3452381  0.70238095 0.76190476 0.80952381 0.82142857 0.80952381\n",
      " 0.78174603 0.73015873 0.71428571 0.6468254  0.76190476 0.83333333\n",
      " 0.87301587 0.83730159 0.66269841 0.3531746  0.50793651 0.69444444\n",
      " 0.76587302 0.77380952 0.76984127 0.78174603 0.75396825 0.71825397\n",
      " 0.71825397 0.8015873  0.8531746  0.94444444 0.94047619 0.89285714\n",
      " 0.72619048 0.28968254 0.71428571 0.72619048 0.73412698 0.77777778\n",
      " 0.78571429 0.78571429 0.78968254 0.79761905 0.86507937 0.8968254\n",
      " 0.9484127  0.96825397 0.96825397 0.8968254  0.71031746 0.23412698\n",
      " 0.88095238 0.8968254  0.84920635 0.82936508 0.83333333 0.83333333\n",
      " 0.8531746  0.88888889 0.9047619  0.94047619 0.96031746 0.98015873\n",
      " 0.96428571 0.93253968 0.75396825 0.25       0.94047619 0.93650794\n",
      " 0.92460317 0.92063492 0.92063492 0.92460317 0.92460317 0.92857143\n",
      " 0.95634921 0.95634921 0.95238095 0.94047619 0.92460317 0.8968254\n",
      " 0.78174603 0.36111111 0.97619048 0.96825397 0.97222222 0.97619048\n",
      " 0.97222222 0.98015873 0.97619048 0.98015873 0.98412698 0.98809524\n",
      " 0.97222222 0.97619048 0.95634921 0.95634921 0.86904762 0.62698413\n",
      " 0.99603175 0.98809524 0.98809524 0.98412698 0.98412698 0.97619048\n",
      " 0.97619048 0.98015873 0.99206349 0.98809524 0.98015873 0.96428571\n",
      " 0.95634921 0.95634921 0.90873016 0.83730159]\n",
      "Class 4:\n",
      "P(x=1 | y=4): [0.01587302 0.01587302 0.01587302 0.01587302 0.01984127 0.01984127\n",
      " 0.02380952 0.03571429 0.04365079 0.0515873  0.04365079 0.03174603\n",
      " 0.01190476 0.01190476 0.00793651 0.00396825 0.0515873  0.0515873\n",
      " 0.05952381 0.05952381 0.05555556 0.04761905 0.06746032 0.06349206\n",
      " 0.07936508 0.07142857 0.09126984 0.08730159 0.01587302 0.00793651\n",
      " 0.00793651 0.00793651 0.08333333 0.09126984 0.1031746  0.13095238\n",
      " 0.13888889 0.1547619  0.15079365 0.15873016 0.17460317 0.1984127\n",
      " 0.17063492 0.13095238 0.07142857 0.03174603 0.01190476 0.00396825\n",
      " 0.20238095 0.22619048 0.21825397 0.23809524 0.26984127 0.3015873\n",
      " 0.3015873  0.3531746  0.3452381  0.36111111 0.28571429 0.21428571\n",
      " 0.08730159 0.03968254 0.00793651 0.00396825 0.18253968 0.16269841\n",
      " 0.16666667 0.21031746 0.21825397 0.26587302 0.33730159 0.39285714\n",
      " 0.33730159 0.33333333 0.3015873  0.21825397 0.09126984 0.03571429\n",
      " 0.01984127 0.02777778 0.20634921 0.20238095 0.20634921 0.22619048\n",
      " 0.21825397 0.28968254 0.24206349 0.26984127 0.26190476 0.27380952\n",
      " 0.26190476 0.21825397 0.12698413 0.06746032 0.04365079 0.04365079\n",
      " 0.1547619  0.15873016 0.16269841 0.19047619 0.17857143 0.13095238\n",
      " 0.09126984 0.15079365 0.17857143 0.23015873 0.28968254 0.25396825\n",
      " 0.13492063 0.07539683 0.06349206 0.1031746  0.12301587 0.11904762\n",
      " 0.13095238 0.10714286 0.06746032 0.05555556 0.05952381 0.14285714\n",
      " 0.17460317 0.23412698 0.3531746  0.30952381 0.22619048 0.18650794\n",
      " 0.18650794 0.21031746 0.08333333 0.07936508 0.05952381 0.03968254\n",
      " 0.06746032 0.13888889 0.19047619 0.29761905 0.34920635 0.38095238\n",
      " 0.46825397 0.4484127  0.37698413 0.35714286 0.31349206 0.34920635\n",
      " 0.03968254 0.0515873  0.0515873  0.07539683 0.15079365 0.21428571\n",
      " 0.28968254 0.39285714 0.43650794 0.47619048 0.52380952 0.48412698\n",
      " 0.3968254  0.3015873  0.29761905 0.30952381 0.03571429 0.03174603\n",
      " 0.0515873  0.09126984 0.15079365 0.18650794 0.23015873 0.3015873\n",
      " 0.31349206 0.36507937 0.40873016 0.38095238 0.24206349 0.19444444\n",
      " 0.15079365 0.17063492 0.00793651 0.01984127 0.03571429 0.06349206\n",
      " 0.07539683 0.12301587 0.1468254  0.20634921 0.19047619 0.3015873\n",
      " 0.3015873  0.27777778 0.13888889 0.07936508 0.05555556 0.05555556\n",
      " 0.00793651 0.00396825 0.01587302 0.02380952 0.03174603 0.02380952\n",
      " 0.03968254 0.09126984 0.10714286 0.18650794 0.18253968 0.1984127\n",
      " 0.09126984 0.03968254 0.01190476 0.01190476 0.00396825 0.00793651\n",
      " 0.00793651 0.00793651 0.00793651 0.01984127 0.03174603 0.0515873\n",
      " 0.05952381 0.09126984 0.09126984 0.11507937 0.07539683 0.03968254\n",
      " 0.00396825 0.00396825 0.00396825 0.00793651 0.00396825 0.00396825\n",
      " 0.00396825 0.00396825 0.01190476 0.02777778 0.02380952 0.04365079\n",
      " 0.03968254 0.0515873  0.04365079 0.00793651 0.00396825 0.00396825\n",
      " 0.00396825 0.00396825 0.00396825 0.00396825 0.00396825 0.00396825\n",
      " 0.00396825 0.01190476 0.01190476 0.02380952 0.01587302 0.01587302\n",
      " 0.01984127 0.00396825 0.00396825 0.00396825]\n",
      "P(x=0 | y=4): [0.98412698 0.98412698 0.98412698 0.98412698 0.98015873 0.98015873\n",
      " 0.97619048 0.96428571 0.95634921 0.9484127  0.95634921 0.96825397\n",
      " 0.98809524 0.98809524 0.99206349 0.99603175 0.9484127  0.9484127\n",
      " 0.94047619 0.94047619 0.94444444 0.95238095 0.93253968 0.93650794\n",
      " 0.92063492 0.92857143 0.90873016 0.91269841 0.98412698 0.99206349\n",
      " 0.99206349 0.99206349 0.91666667 0.90873016 0.8968254  0.86904762\n",
      " 0.86111111 0.8452381  0.84920635 0.84126984 0.82539683 0.8015873\n",
      " 0.82936508 0.86904762 0.92857143 0.96825397 0.98809524 0.99603175\n",
      " 0.79761905 0.77380952 0.78174603 0.76190476 0.73015873 0.6984127\n",
      " 0.6984127  0.6468254  0.6547619  0.63888889 0.71428571 0.78571429\n",
      " 0.91269841 0.96031746 0.99206349 0.99603175 0.81746032 0.83730159\n",
      " 0.83333333 0.78968254 0.78174603 0.73412698 0.66269841 0.60714286\n",
      " 0.66269841 0.66666667 0.6984127  0.78174603 0.90873016 0.96428571\n",
      " 0.98015873 0.97222222 0.79365079 0.79761905 0.79365079 0.77380952\n",
      " 0.78174603 0.71031746 0.75793651 0.73015873 0.73809524 0.72619048\n",
      " 0.73809524 0.78174603 0.87301587 0.93253968 0.95634921 0.95634921\n",
      " 0.8452381  0.84126984 0.83730159 0.80952381 0.82142857 0.86904762\n",
      " 0.90873016 0.84920635 0.82142857 0.76984127 0.71031746 0.74603175\n",
      " 0.86507937 0.92460317 0.93650794 0.8968254  0.87698413 0.88095238\n",
      " 0.86904762 0.89285714 0.93253968 0.94444444 0.94047619 0.85714286\n",
      " 0.82539683 0.76587302 0.6468254  0.69047619 0.77380952 0.81349206\n",
      " 0.81349206 0.78968254 0.91666667 0.92063492 0.94047619 0.96031746\n",
      " 0.93253968 0.86111111 0.80952381 0.70238095 0.65079365 0.61904762\n",
      " 0.53174603 0.5515873  0.62301587 0.64285714 0.68650794 0.65079365\n",
      " 0.96031746 0.9484127  0.9484127  0.92460317 0.84920635 0.78571429\n",
      " 0.71031746 0.60714286 0.56349206 0.52380952 0.47619048 0.51587302\n",
      " 0.6031746  0.6984127  0.70238095 0.69047619 0.96428571 0.96825397\n",
      " 0.9484127  0.90873016 0.84920635 0.81349206 0.76984127 0.6984127\n",
      " 0.68650794 0.63492063 0.59126984 0.61904762 0.75793651 0.80555556\n",
      " 0.84920635 0.82936508 0.99206349 0.98015873 0.96428571 0.93650794\n",
      " 0.92460317 0.87698413 0.8531746  0.79365079 0.80952381 0.6984127\n",
      " 0.6984127  0.72222222 0.86111111 0.92063492 0.94444444 0.94444444\n",
      " 0.99206349 0.99603175 0.98412698 0.97619048 0.96825397 0.97619048\n",
      " 0.96031746 0.90873016 0.89285714 0.81349206 0.81746032 0.8015873\n",
      " 0.90873016 0.96031746 0.98809524 0.98809524 0.99603175 0.99206349\n",
      " 0.99206349 0.99206349 0.99206349 0.98015873 0.96825397 0.9484127\n",
      " 0.94047619 0.90873016 0.90873016 0.88492063 0.92460317 0.96031746\n",
      " 0.99603175 0.99603175 0.99603175 0.99206349 0.99603175 0.99603175\n",
      " 0.99603175 0.99603175 0.98809524 0.97222222 0.97619048 0.95634921\n",
      " 0.96031746 0.9484127  0.95634921 0.99206349 0.99603175 0.99603175\n",
      " 0.99603175 0.99603175 0.99603175 0.99603175 0.99603175 0.99603175\n",
      " 0.99603175 0.98809524 0.98809524 0.97619048 0.98412698 0.98412698\n",
      " 0.98015873 0.99603175 0.99603175 0.99603175]\n"
     ]
    }
   ],
   "execution_count": 51
  },
  {
   "metadata": {},
   "cell_type": "markdown",
   "source": "### Prediction Function",
   "id": "9d1d239b7f9f99f2"
  },
  {
   "metadata": {
    "ExecuteTime": {
     "end_time": "2025-08-18T16:49:19.470561Z",
     "start_time": "2025-08-18T16:49:19.396331Z"
    }
   },
   "cell_type": "code",
   "source": [
    "def predict(x, classes, priors, cond_prob):\n",
    "    posteriors = {}\n",
    "\n",
    "    for c in classes:\n",
    "        log_prob = np.log(priors[c])\n",
    "\n",
    "        for i in range(len(x)):\n",
    "            log_prob += np.log(cond_prob[c][x[i]][i])\n",
    "\n",
    "        posteriors[c] = log_prob\n",
    "\n",
    "    return max(posteriors, key=posteriors.get)\n"
   ],
   "id": "b409084140af3e00",
   "outputs": [],
   "execution_count": 52
  },
  {
   "metadata": {},
   "cell_type": "markdown",
   "source": "### Evaluate Accuracy",
   "id": "33284a15b26d0ac"
  },
  {
   "metadata": {
    "ExecuteTime": {
     "end_time": "2025-08-18T16:49:24.078991Z",
     "start_time": "2025-08-18T16:49:21.783432Z"
    }
   },
   "cell_type": "code",
   "source": [
    "def evaluate(X, Y, classes, priors, conditional_prob):\n",
    "    preds = []\n",
    "    for i in range(len(X)):\n",
    "        preds.append(predict(X[i], classes, priors, conditional_prob))\n",
    "    preds = np.array(preds)\n",
    "    acc = np.mean(preds == Y)\n",
    "    return acc, preds\n",
    "\n",
    "\n",
    "# Training accuracy\n",
    "train_acc, train_preds = evaluate(trainX, trainY, classes, priors_dict, conditional_prob)\n",
    "print(\"Training Accuracy:\", train_acc)\n",
    "\n",
    "# Testing accuracy\n",
    "test_acc, test_preds = evaluate(testX, testY, classes, priors_dict, conditional_prob)\n",
    "print(\"Testing Accuracy:\", test_acc)\n"
   ],
   "id": "c3b7a923f23878a2",
   "outputs": [
    {
     "name": "stdout",
     "output_type": "stream",
     "text": [
      "Training Accuracy: 0.988\n",
      "Testing Accuracy: 1.0\n"
     ]
    }
   ],
   "execution_count": 53
  },
  {
   "metadata": {},
   "cell_type": "markdown",
   "source": "### Evaluation for each class",
   "id": "6e19ee4ba5ed1306"
  },
  {
   "metadata": {
    "ExecuteTime": {
     "end_time": "2025-08-18T16:49:26.200917Z",
     "start_time": "2025-08-18T16:49:26.160833Z"
    }
   },
   "cell_type": "code",
   "source": [
    "for c in classes:\n",
    "    train_mask = (trainY == c)\n",
    "    test_mask = (testY == c)\n",
    "\n",
    "    train_acc_c = np.mean(train_preds[train_mask] == trainY[train_mask])\n",
    "    test_acc_c = np.mean(test_preds[test_mask] == testY[test_mask])\n",
    "\n",
    "    print(f\"\\nClass {c}:\")\n",
    "    print(f\" Training Accuracy = {train_acc_c:.4f}\")\n",
    "    print(f\" Testing Accuracy  = {test_acc_c:.4f}\")\n"
   ],
   "id": "ff6a62a557c87a16",
   "outputs": [
    {
     "name": "stdout",
     "output_type": "stream",
     "text": [
      "\n",
      "Class 2:\n",
      " Training Accuracy = 0.9840\n",
      " Testing Accuracy  = 1.0000\n",
      "\n",
      "Class 4:\n",
      " Training Accuracy = 0.9920\n",
      " Testing Accuracy  = 1.0000\n"
     ]
    }
   ],
   "execution_count": 54
  },
  {
   "metadata": {},
   "cell_type": "code",
   "outputs": [],
   "execution_count": null,
   "source": "",
   "id": "630dc6320f5feaad"
  }
 ],
 "metadata": {
  "kernelspec": {
   "display_name": "Python 3",
   "language": "python",
   "name": "python3"
  },
  "language_info": {
   "codemirror_mode": {
    "name": "ipython",
    "version": 2
   },
   "file_extension": ".py",
   "mimetype": "text/x-python",
   "name": "python",
   "nbconvert_exporter": "python",
   "pygments_lexer": "ipython2",
   "version": "2.7.6"
  }
 },
 "nbformat": 4,
 "nbformat_minor": 5
}
